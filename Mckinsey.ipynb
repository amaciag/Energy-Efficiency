{
 "cells": [
  {
   "cell_type": "code",
   "execution_count": 118,
   "metadata": {},
   "outputs": [],
   "source": [
    "import pandas as pd\n",
    "import numpy as np\n",
    "from sklearn.tree import DecisionTreeClassifier\n",
    "from sklearn.model_selection import train_test_split\n",
    "from sklearn.linear_model import LogisticRegression\n",
    "from sklearn import preprocessing\n",
    "from sklearn.metrics import roc_curve,confusion_matrix,accuracy_score,roc_auc_score\n",
    "from sklearn.ensemble import AdaBoostClassifier\n",
    "from sklearn.ensemble import RandomForestClassifier,BaggingClassifier\n",
    "import matplotlib.pyplot as plt\n",
    "from keras import models,layers"
   ]
  },
  {
   "cell_type": "code",
   "execution_count": 119,
   "metadata": {},
   "outputs": [],
   "source": [
    "def convert(data):\n",
    "    for i in data.keys():\n",
    "        print(i)\n",
    "        number=preprocessing.LabelEncoder()\n",
    "        if data[i].dtypes=='object':\n",
    "            data[i]=number.fit_transform(data[i].astype(str))\n",
    "            print(i)\n",
    "            print('yes')\n",
    "    data=data.fillna(-999)\n",
    "    return data\n",
    "    \n",
    "def create_model():\n",
    "    model=models.Sequential()\n",
    "    model.add(layers.Dense(16,activation='relu',input_shape=(50,)))\n",
    "    model.add(layers.Dense(16,activation='sigmoid'))\n",
    "    model.add(layers.Dense(1,activation='sigmoid'))\n",
    "    model.compile(optimizer='rmsprop',loss='binary_crossentropy',metrics=['accuracy'])\n",
    "    \n",
    "    return model"
   ]
  },
  {
   "cell_type": "code",
   "execution_count": 120,
   "metadata": {},
   "outputs": [
    {
     "name": "stderr",
     "output_type": "stream",
     "text": [
      "C:\\Users\\Anh\\Anaconda3\\lib\\site-packages\\IPython\\core\\interactiveshell.py:2728: DtypeWarning: Columns (19,55) have mixed types. Specify dtype option on import or set low_memory=False.\n",
      "  interactivity=interactivity, compiler=compiler, result=result)\n"
     ]
    },
    {
     "name": "stdout",
     "output_type": "stream",
     "text": [
      "loan_amnt\n",
      "funded_amnt\n",
      "funded_amnt_inv\n",
      "term\n",
      "term\n",
      "yes\n",
      "int_rate\n",
      "installment\n",
      "grade\n",
      "grade\n",
      "yes\n",
      "sub_grade\n",
      "sub_grade\n",
      "yes\n",
      "emp_title\n",
      "emp_title\n",
      "yes\n",
      "emp_length\n",
      "emp_length\n",
      "yes\n",
      "home_ownership\n",
      "home_ownership\n",
      "yes\n",
      "annual_inc\n",
      "verification_status\n",
      "verification_status\n",
      "yes\n",
      "issue_d\n",
      "issue_d\n",
      "yes\n",
      "pymnt_plan\n",
      "pymnt_plan\n",
      "yes\n",
      "purpose\n",
      "purpose\n",
      "yes\n",
      "title\n",
      "title\n",
      "yes\n",
      "zip_code\n",
      "zip_code\n",
      "yes\n",
      "addr_state\n",
      "addr_state\n",
      "yes\n",
      "dti\n",
      "delinq_2yrs\n",
      "earliest_cr_line\n",
      "earliest_cr_line\n",
      "yes\n",
      "inq_last_6mths\n",
      "mths_since_last_delinq\n",
      "open_acc\n",
      "pub_rec\n",
      "revol_bal\n",
      "revol_util\n",
      "total_acc\n",
      "initial_list_status\n",
      "initial_list_status\n",
      "yes\n",
      "out_prncp\n",
      "out_prncp_inv\n",
      "total_pymnt\n",
      "total_pymnt_inv\n",
      "total_rec_prncp\n",
      "total_rec_int\n",
      "total_rec_late_fee\n",
      "recoveries\n",
      "collection_recovery_fee\n",
      "last_pymnt_d\n",
      "last_pymnt_d\n",
      "yes\n",
      "last_pymnt_amnt\n",
      "next_pymnt_d\n",
      "next_pymnt_d\n",
      "yes\n",
      "last_credit_pull_d\n",
      "last_credit_pull_d\n",
      "yes\n",
      "collections_12_mths_ex_med\n",
      "policy_code\n",
      "application_type\n",
      "application_type\n",
      "yes\n",
      "acc_now_delinq\n",
      "tot_coll_amt\n",
      "tot_cur_bal\n",
      "total_rev_hi_lim\n"
     ]
    }
   ],
   "source": [
    "data=pd.read_csv('loan.csv')\n",
    "\n",
    "data=data[['loan_amnt','funded_amnt','funded_amnt_inv','term','int_rate','installment',\t\n",
    "           'grade','sub_grade','emp_title','emp_length','home_ownership','annual_inc'\t,\n",
    "           'verification_status','issue_d','loan_status','pymnt_plan','purpose',\n",
    "           'title',\t'zip_code','addr_state','dti','delinq_2yrs','earliest_cr_line','inq_last_6mths',\t\n",
    "           'mths_since_last_delinq','open_acc','pub_rec','revol_bal','revol_util',\t\n",
    "           'total_acc','initial_list_status','out_prncp','out_prncp_inv','total_pymnt',\t\n",
    "           'total_pymnt_inv','total_rec_prncp','total_rec_int','total_rec_late_fee','recoveries',\t\n",
    "           'collection_recovery_fee','last_pymnt_d','last_pymnt_amnt','next_pymnt_d',\t\n",
    "           'last_credit_pull_d','collections_12_mths_ex_med','policy_code',\t\n",
    "           'application_type','acc_now_delinq','tot_coll_amt','tot_cur_bal','total_rev_hi_lim']]\n",
    "\n",
    "dat=data\n",
    "dat.loan_status=dat.loan_status.replace(['Charged Off','Default','Does not meet the credit policy. Status:Charged Off',\n",
    "             'Late (16-30 days)','Late (31-120 days)'],1)\n",
    "dat.loan_status=dat.loan_status.replace(['Current','Does not meet the credit policy. Status:Fully Paid',\n",
    "           'Fully Paid','In Grace Period','Issued'],0)\n",
    "\n",
    "dat=dat.sample(frac=1)\n",
    "fraud=dat[dat.loan_status==1]\n",
    "not_fraud=dat[dat.loan_status==0][:len(fraud)]\n",
    "new_data=pd.concat([fraud,not_fraud])\n",
    "new_data=new_data.sample(frac=1,random_state=42)\n",
    "\n",
    "y=new_data.loan_status\n",
    "x=new_data.drop('loan_status',axis=1)\n",
    "x=convert(x)\n"
   ]
  },
  {
   "cell_type": "code",
   "execution_count": 121,
   "metadata": {},
   "outputs": [
    {
     "name": "stdout",
     "output_type": "stream",
     "text": [
      "Predicted      0      1    All\n",
      "True                          \n",
      "0          17219   1043  18262\n",
      "1           1007  17437  18444\n",
      "All        18226  18480  36706\n"
     ]
    }
   ],
   "source": [
    "x_train,x_test,y_train,y_test=train_test_split(x,y,test_size=0.3,random_state=0)\n",
    "\n",
    "tree=DecisionTreeClassifier().fit(x_train,y_train)\n",
    "\n",
    "tree_score=tree.score(x_test,y_test)\n",
    "tree_auc=roc_auc_score(y_test,tree.predict(x_test))\n",
    "\n",
    "false_positive, true_positive,_=roc_curve(y_test,tree.predict(x_test)) \n",
    "print(pd.crosstab(y_test,tree.predict(x_test),rownames=['True'],colnames=['Predicted'],margins=True))"
   ]
  },
  {
   "cell_type": "code",
   "execution_count": 122,
   "metadata": {},
   "outputs": [],
   "source": [
    "lr=LogisticRegression().fit(x_train, y_train)\n",
    "lr_score=lr.score(x_test,y_test)\n",
    "lr_auc=roc_auc_score(y_test,lr.predict(x_test))\n",
    "lrfalse_positive, lrtrue_positive,_=roc_curve(y_test,lr.predict(x_test)) \n"
   ]
  },
  {
   "cell_type": "code",
   "execution_count": 123,
   "metadata": {},
   "outputs": [
    {
     "name": "stdout",
     "output_type": "stream",
     "text": [
      "Train on 85646 samples, validate on 36706 samples\n",
      "Epoch 1/40\n",
      "85646/85646 [==============================] - 3s 36us/step - loss: 0.7127 - acc: 0.5047 - val_loss: 0.6752 - val_acc: 0.5551\n",
      "Epoch 2/40\n",
      "85646/85646 [==============================] - 3s 32us/step - loss: 0.6615 - acc: 0.6032 - val_loss: 0.6566 - val_acc: 0.6106\n",
      "Epoch 3/40\n",
      "85646/85646 [==============================] - 2s 27us/step - loss: 0.6447 - acc: 0.6297 - val_loss: 0.6326 - val_acc: 0.6514\n",
      "Epoch 4/40\n",
      "85646/85646 [==============================] - 3s 31us/step - loss: 0.6311 - acc: 0.6430 - val_loss: 0.6228 - val_acc: 0.6548\n",
      "Epoch 5/40\n",
      "85646/85646 [==============================] - 2s 27us/step - loss: 0.6154 - acc: 0.6624 - val_loss: 0.5952 - val_acc: 0.6881\n",
      "Epoch 6/40\n",
      "85646/85646 [==============================] - 3s 34us/step - loss: 0.5920 - acc: 0.6912 - val_loss: 0.5931 - val_acc: 0.6833\n",
      "Epoch 7/40\n",
      "85646/85646 [==============================] - 2s 27us/step - loss: 0.5673 - acc: 0.7267 - val_loss: 0.5711 - val_acc: 0.7185\n",
      "Epoch 8/40\n",
      "85646/85646 [==============================] - 3s 31us/step - loss: 0.5467 - acc: 0.7404 - val_loss: 0.5353 - val_acc: 0.7515\n",
      "Epoch 9/40\n",
      "85646/85646 [==============================] - 2s 29us/step - loss: 0.4993 - acc: 0.7797 - val_loss: 0.4866 - val_acc: 0.7876\n",
      "Epoch 10/40\n",
      "85646/85646 [==============================] - 3s 32us/step - loss: 0.4540 - acc: 0.8073 - val_loss: 0.5179 - val_acc: 0.7507\n",
      "Epoch 11/40\n",
      "85646/85646 [==============================] - 3s 30us/step - loss: 0.4471 - acc: 0.8068 - val_loss: 0.4286 - val_acc: 0.8183\n",
      "Epoch 12/40\n",
      "85646/85646 [==============================] - 2s 29us/step - loss: 0.4328 - acc: 0.8131 - val_loss: 0.4006 - val_acc: 0.8354\n",
      "Epoch 13/40\n",
      "85646/85646 [==============================] - 3s 32us/step - loss: 0.4062 - acc: 0.8285 - val_loss: 0.4364 - val_acc: 0.8128\n",
      "Epoch 14/40\n",
      "85646/85646 [==============================] - 2s 29us/step - loss: 0.3982 - acc: 0.8348 - val_loss: 0.4143 - val_acc: 0.8222\n",
      "Epoch 15/40\n",
      "85646/85646 [==============================] - 3s 32us/step - loss: 0.3817 - acc: 0.8406 - val_loss: 0.3907 - val_acc: 0.8394\n",
      "Epoch 16/40\n",
      "85646/85646 [==============================] - 2s 28us/step - loss: 0.3886 - acc: 0.8393 - val_loss: 0.3721 - val_acc: 0.8445\n",
      "Epoch 17/40\n",
      "85646/85646 [==============================] - 3s 37us/step - loss: 0.3800 - acc: 0.8444 - val_loss: 0.3838 - val_acc: 0.8435\n",
      "Epoch 18/40\n",
      "85646/85646 [==============================] - 2s 27us/step - loss: 0.3865 - acc: 0.8319 - val_loss: 0.3776 - val_acc: 0.8355\n",
      "Epoch 19/40\n",
      "85646/85646 [==============================] - 3s 32us/step - loss: 0.3775 - acc: 0.8410 - val_loss: 0.3717 - val_acc: 0.8403\n",
      "Epoch 20/40\n",
      "85646/85646 [==============================] - 2s 27us/step - loss: 0.3685 - acc: 0.8467 - val_loss: 0.3679 - val_acc: 0.8459\n",
      "Epoch 21/40\n",
      "85646/85646 [==============================] - 3s 31us/step - loss: 0.3656 - acc: 0.8461 - val_loss: 0.3852 - val_acc: 0.8313\n",
      "Epoch 22/40\n",
      "85646/85646 [==============================] - 3s 30us/step - loss: 0.3649 - acc: 0.8483 - val_loss: 0.3547 - val_acc: 0.8523\n",
      "Epoch 23/40\n",
      "85646/85646 [==============================] - 3s 30us/step - loss: 0.3568 - acc: 0.8529 - val_loss: 0.3834 - val_acc: 0.8377\n",
      "Epoch 24/40\n",
      "85646/85646 [==============================] - 3s 32us/step - loss: 0.3547 - acc: 0.8538 - val_loss: 0.3488 - val_acc: 0.8569\n",
      "Epoch 25/40\n",
      "85646/85646 [==============================] - 3s 32us/step - loss: 0.3524 - acc: 0.8537 - val_loss: 0.3734 - val_acc: 0.8384\n",
      "Epoch 26/40\n",
      "85646/85646 [==============================] - 3s 32us/step - loss: 0.3466 - acc: 0.8564 - val_loss: 0.3529 - val_acc: 0.8476\n",
      "Epoch 27/40\n",
      "85646/85646 [==============================] - 3s 32us/step - loss: 0.3410 - acc: 0.8597 - val_loss: 0.3426 - val_acc: 0.8583\n",
      "Epoch 28/40\n",
      "85646/85646 [==============================] - 3s 32us/step - loss: 0.3482 - acc: 0.8545 - val_loss: 0.3340 - val_acc: 0.8640\n",
      "Epoch 29/40\n",
      "85646/85646 [==============================] - 2s 29us/step - loss: 0.3385 - acc: 0.8591 - val_loss: 0.3378 - val_acc: 0.8589\n",
      "Epoch 30/40\n",
      "85646/85646 [==============================] - 3s 32us/step - loss: 0.3387 - acc: 0.8613 - val_loss: 0.3604 - val_acc: 0.8520\n",
      "Epoch 31/40\n",
      "85646/85646 [==============================] - 3s 32us/step - loss: 0.3402 - acc: 0.8618 - val_loss: 0.3319 - val_acc: 0.8639\n",
      "Epoch 32/40\n",
      "85646/85646 [==============================] - 3s 33us/step - loss: 0.3390 - acc: 0.8620 - val_loss: 0.3388 - val_acc: 0.8608\n",
      "Epoch 33/40\n",
      "85646/85646 [==============================] - 2s 29us/step - loss: 0.3385 - acc: 0.8622 - val_loss: 0.3383 - val_acc: 0.8586\n",
      "Epoch 34/40\n",
      "85646/85646 [==============================] - 3s 31us/step - loss: 0.3352 - acc: 0.8641 - val_loss: 0.3328 - val_acc: 0.8653\n",
      "Epoch 35/40\n",
      "85646/85646 [==============================] - 2s 29us/step - loss: 0.3338 - acc: 0.8645 - val_loss: 0.3313 - val_acc: 0.8657\n",
      "Epoch 36/40\n",
      "85646/85646 [==============================] - 3s 32us/step - loss: 0.3305 - acc: 0.8672 - val_loss: 0.3304 - val_acc: 0.8651\n",
      "Epoch 37/40\n",
      "85646/85646 [==============================] - 3s 30us/step - loss: 0.3345 - acc: 0.8643 - val_loss: 0.3308 - val_acc: 0.8663\n",
      "Epoch 38/40\n",
      "85646/85646 [==============================] - 3s 33us/step - loss: 0.3295 - acc: 0.8671 - val_loss: 0.3366 - val_acc: 0.8655\n",
      "Epoch 39/40\n",
      "85646/85646 [==============================] - 2s 28us/step - loss: 0.3411 - acc: 0.8621 - val_loss: 0.3334 - val_acc: 0.8631\n",
      "Epoch 40/40\n",
      "85646/85646 [==============================] - 3s 30us/step - loss: 0.3343 - acc: 0.8663 - val_loss: 0.3465 - val_acc: 0.8561\n"
     ]
    }
   ],
   "source": [
    "model=create_model()\n",
    "history=model.fit(x_train,y_train,epochs=40,batch_size=100,validation_data=(x_test,y_test))"
   ]
  },
  {
   "cell_type": "code",
   "execution_count": 124,
   "metadata": {},
   "outputs": [
    {
     "data": {
      "text/plain": [
       "<matplotlib.legend.Legend at 0x23cbb87f668>"
      ]
     },
     "execution_count": 124,
     "metadata": {},
     "output_type": "execute_result"
    },
    {
     "data": {
      "image/png": "[encoded data removed]",
      "text/plain": [
       "<matplotlib.figure.Figure at 0x23cc1ef14e0>"
      ]
     },
     "metadata": {},
     "output_type": "display_data"
    }
   ],
   "source": [
    "acc=history.history['acc']\n",
    "val_acc=history.history['val_acc']\n",
    "loss=history.history['loss']\n",
    "val_loss=history.history['val_loss']\n",
    "epochs=range(1,len(acc)+1)\n",
    "\n",
    "plt.figure(figsize=(15,5))\n",
    "plt.subplot(1,2,1)\n",
    "plt.plot(epochs,acc,'bo',label='Training Accuracy')\n",
    "plt.plot(epochs,val_acc,'b',label='Validation Accuracy')\n",
    "plt.ylabel('Accuracy')\n",
    "plt.legend()\n",
    "\n",
    "plt.subplot(1,2,2)\n",
    "plt.plot(epochs,loss,'bo',label='Training Loss')\n",
    "plt.plot(epochs,val_loss,'b',label='Validation Loss')\n",
    "plt.xlabel('Epochs')\n",
    "plt.ylabel('Loss')\n",
    "plt.legend()"
   ]
  },
  {
   "cell_type": "code",
   "execution_count": 125,
   "metadata": {},
   "outputs": [
    {
     "name": "stdout",
     "output_type": "stream",
     "text": [
      "[[0.18666354]\n",
      " [0.18666354]\n",
      " [0.18666354]\n",
      " ...\n",
      " [0.9972451 ]\n",
      " [0.18666354]\n",
      " [0.18666354]]\n"
     ]
    }
   ],
   "source": [
    "nn_prediction=model.predict(x_test)\n",
    "print(nn_prediction)"
   ]
  },
  {
   "cell_type": "code",
   "execution_count": 128,
   "metadata": {},
   "outputs": [],
   "source": [
    "nn_prediction=np.where(prediction>0.67,1,0)\n",
    "nn_score=accuracy_score(y_test,nn_prediction)\n",
    "nn_auc=roc_auc_score(y_test,nn_prediction)\n",
    "nnfalse_positive, nntrue_positive,_=roc_curve(y_test,nn_prediction) "
   ]
  },
  {
   "cell_type": "code",
   "execution_count": 127,
   "metadata": {},
   "outputs": [
    {
     "data": {
      "text/plain": [
       "<matplotlib.legend.Legend at 0x23caab7ad30>"
      ]
     },
     "execution_count": 127,
     "metadata": {},
     "output_type": "execute_result"
    },
    {
     "data": {
      "image/png": "[encoded data removed]",
      "text/plain": [
       "<matplotlib.figure.Figure at 0x23cc4814080>"
      ]
     },
     "metadata": {},
     "output_type": "display_data"
    }
   ],
   "source": [
    "plt.plot([0, 1], [0, 1], 'k--')\n",
    "plt.plot(false_positive,true_positive,label='tree')\n",
    "plt.plot(lrfalse_positive,lrtrue_positive,label='logarithmic regression')\n",
    "plt.plot(nnfalse_positive,nntrue_positive,label='neural network')\n",
    "plt.xlabel('False Positive Rate')\n",
    "plt.ylabel('True Positive Rate')\n",
    "plt.legend(loc='best')"
   ]
  },
  {
   "cell_type": "code",
   "execution_count": 141,
   "metadata": {},
   "outputs": [
    {
     "name": "stdout",
     "output_type": "stream",
     "text": [
      "       Classifier     Score       AUC\n",
      "0            tree  0.944151  0.944145\n",
      "1  log regression  0.936441  0.936618\n",
      "2  neural network  0.867978  0.868605\n"
     ]
    }
   ],
   "source": [
    "info={'Classifier':['tree','log regression','neural network'],\n",
    "      'Score':[tree_score,lr_score,nn_score],'AUC':[tree_auc,lr_auc,nn_auc]}\n",
    "metric=pd.DataFrame(info,columns=['Classifier','Score','AUC'])\n",
    "print(metric)"
   ]
  },
  {
   "cell_type": "code",
   "execution_count": 133,
   "metadata": {},
   "outputs": [],
   "source": [
    "boost=AdaBoostClassifier(base_estimator=tree,random_state=0)\n",
    "boost.fit(x_train,y_train)\n",
    "boost_score=boost.score(x_test,y_test)\n",
    "boost_auc=roc_auc_score(y_test,boost.predict(x_test))\n",
    "bfalse_positive, btrue_positive,_=roc_curve(y_test,boost.predict(x_test)) "
   ]
  },
  {
   "cell_type": "code",
   "execution_count": 134,
   "metadata": {},
   "outputs": [],
   "source": [
    "ran=RandomForestClassifier(random_state=0).fit(x_train,y_train)\n",
    "ran_score=ran.score(x_test,y_test)\n",
    "ran_auc=roc_auc_score(y_test,ran.predict(x_test))\n",
    "rfalse_positive,rtrue_positive,_=roc_curve(y_test,ran.predict(x_test))"
   ]
  },
  {
   "cell_type": "code",
   "execution_count": 135,
   "metadata": {},
   "outputs": [],
   "source": [
    "bag=BaggingClassifier(random_state=0).fit(x_train,y_train)\n",
    "bag_score=bag.score(x_test,y_test)\n",
    "bag_auc=roc_auc_score(y_test,bag.predict(x_test))\n",
    "bagfalse_positive,bagtrue_positive,_=roc_curve(y_test,bag.predict(x_test))\n"
   ]
  },
  {
   "cell_type": "code",
   "execution_count": 136,
   "metadata": {},
   "outputs": [
    {
     "data": {
      "text/plain": [
       "<matplotlib.legend.Legend at 0x23cc5f3bb38>"
      ]
     },
     "execution_count": 136,
     "metadata": {},
     "output_type": "execute_result"
    },
    {
     "data": {
      "image/png": "[encoded data removed]",
      "text/plain": [
       "<matplotlib.figure.Figure at 0x23cbe05eac8>"
      ]
     },
     "metadata": {},
     "output_type": "display_data"
    }
   ],
   "source": [
    "plt.plot([0, 1], [0, 1], 'k--')\n",
    "plt.plot(false_positive,true_positive,label='tree')\n",
    "plt.plot(bfalse_positive,btrue_positive,label='boost')\n",
    "plt.plot(rfalse_positive,rtrue_positive,label='rand')\n",
    "plt.plot(bagfalse_positive,bagtrue_positive,label='bag')\n",
    "plt.xlabel('False Positive Rate')\n",
    "plt.ylabel('True Positive Rate')\n",
    "plt.legend(loc='best')\n"
   ]
  },
  {
   "cell_type": "code",
   "execution_count": 139,
   "metadata": {},
   "outputs": [],
   "source": [
    "a={'Classifier':['tree','boost','random','bag'],'Score':[tree_score,boost_score,ran_score,bag_score],\n",
    "   'AUC':[tree_auc,boost_auc,ran_auc,bag_auc]}\n",
    "metric2=pd.DataFrame(a,columns=['Classifier','Score','AUC'])"
   ]
  },
  {
   "cell_type": "code",
   "execution_count": 140,
   "metadata": {},
   "outputs": [
    {
     "name": "stdout",
     "output_type": "stream",
     "text": [
      "  Classifier     Score       AUC\n",
      "0       tree  0.944151  0.944145\n",
      "1      boost  0.943906  0.943899\n",
      "2     random  0.962322  0.962462\n",
      "3        bag  0.961805  0.961924\n"
     ]
    }
   ],
   "source": [
    "print(metric2)"
   ]
  },
  {
   "cell_type": "code",
   "execution_count": null,
   "metadata": {},
   "outputs": [],
   "source": []
  }
 ],
 "metadata": {
  "kernelspec": {
   "display_name": "Python 3",
   "language": "python",
   "name": "python3"
  },
  "language_info": {
   "codemirror_mode": {
    "name": "ipython",
    "version": 3
   },
   "file_extension": ".py",
   "mimetype": "text/x-python",
   "name": "python",
   "nbconvert_exporter": "python",
   "pygments_lexer": "ipython3",
   "version": "3.6.4"
  }
 },
 "nbformat": 4,
 "nbformat_minor": 2
}
